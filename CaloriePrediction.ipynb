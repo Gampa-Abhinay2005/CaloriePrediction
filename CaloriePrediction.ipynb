{
 "cells": [
  {
   "cell_type": "code",
   "execution_count": null,
   "metadata": {},
   "outputs": [],
   "source": [
    "import numpy as np\n",
    "import pandas as pd\n",
    "import matplotlib.pyplot as plt\n",
    "import seaborn as sb\n",
    "from sklearn.model_selection import train_test_split\n",
    "from sklearn.preprocessing import StandardScaler\n",
    "from sklearn.linear_model import LinearRegression, Lasso\n",
    "\n"
   ]
  },
  {
   "cell_type": "markdown",
   "metadata": {},
   "source": [
    "### Taking input of different files into different dataframes and combining them"
   ]
  },
  {
   "cell_type": "code",
   "execution_count": null,
   "metadata": {},
   "outputs": [],
   "source": [
    "dataframe1 = pd.read_csv('./calories.csv')\n",
    "dataframe1.head()"
   ]
  },
  {
   "cell_type": "code",
   "execution_count": null,
   "metadata": {},
   "outputs": [],
   "source": [
    "dataframe2 = pd.read_csv('./exercise.csv')\n",
    "dataframe2.head()"
   ]
  },
  {
   "cell_type": "markdown",
   "metadata": {},
   "source": [
    "#### Final dataframe is \"dataframe\""
   ]
  },
  {
   "cell_type": "code",
   "execution_count": null,
   "metadata": {},
   "outputs": [],
   "source": [
    "dataframe2[\"Calories\"]=dataframe1[\"Calories\"]\n",
    "dataframe=dataframe2.copy()\n",
    "dataframe"
   ]
  },
  {
   "cell_type": "markdown",
   "metadata": {},
   "source": [
    "### Dropping coloumns which are not necessary Eg: User_ID  "
   ]
  },
  {
   "cell_type": "code",
   "execution_count": null,
   "metadata": {},
   "outputs": [],
   "source": [
    "print(f\"shape: {dataframe.shape}\")\n",
    "dataframe.info()\n",
    "dataframe=dataframe.drop([\"User_ID\"], axis=1) #Dropped user id because there is no relation between User's ID and prediction of calories\n",
    "dataframe.info()\n"
   ]
  },
  {
   "cell_type": "markdown",
   "metadata": {},
   "source": [
    "Checking the datframe if it has null values"
   ]
  },
  {
   "cell_type": "code",
   "execution_count": null,
   "metadata": {},
   "outputs": [],
   "source": [
    "print(dataframe.isnull().sum())"
   ]
  },
  {
   "cell_type": "markdown",
   "metadata": {},
   "source": [
    "### Correlation matrix of all features"
   ]
  },
  {
   "cell_type": "code",
   "execution_count": null,
   "metadata": {},
   "outputs": [],
   "source": [
    "dataframe.corr"
   ]
  },
  {
   "cell_type": "markdown",
   "metadata": {},
   "source": []
  },
  {
   "cell_type": "code",
   "execution_count": null,
   "metadata": {},
   "outputs": [],
   "source": [
    "# styled_df = dataframe.style.background_gradient(cmap='coolwarm')\n",
    "# styled_df"
   ]
  },
  {
   "cell_type": "markdown",
   "metadata": {},
   "source": []
  },
  {
   "cell_type": "code",
   "execution_count": null,
   "metadata": {},
   "outputs": [],
   "source": [
    "#checking the relation between height and weight\n",
    "sb.scatterplot(x='Height', y='Weight', data=dataframe) \n",
    "plt.show()"
   ]
  },
  {
   "cell_type": "markdown",
   "metadata": {},
   "source": [
    "## plot between all features and calories"
   ]
  },
  {
   "cell_type": "code",
   "execution_count": null,
   "metadata": {},
   "outputs": [],
   "source": [
    "listoffeatures=[]\n",
    "for col in dataframe.columns:\n",
    "    listoffeatures.append(col)\n",
    "Feat = listoffeatures[1:-1]\n",
    "\n",
    "for i, col in enumerate(Feat):\n",
    "    x = dataframe.sample(1000)\n",
    "    sb.scatterplot(x=col, y='Calories', data=x)\n",
    "    plt.show()\n"
   ]
  },
  {
   "cell_type": "code",
   "execution_count": null,
   "metadata": {},
   "outputs": [],
   "source": [
    "# features = dataframe.select_dtypes(include='float').columns\n",
    "\n",
    "# plt.subplots(figsize=(15, 10))\n",
    "# for i, col in enumerate(features):\n",
    "#     plt.subplot(2, 3, i + 1)\n",
    "#     sb.distplot(dataframe[col])\n",
    "# plt.tight_layout()\n",
    "# plt.show()"
   ]
  },
  {
   "cell_type": "markdown",
   "metadata": {},
   "source": [
    "## All Pair plots"
   ]
  },
  {
   "cell_type": "code",
   "execution_count": null,
   "metadata": {},
   "outputs": [],
   "source": [
    "# import seaborn\n",
    "sb.pairplot(dataframe)"
   ]
  },
  {
   "cell_type": "code",
   "execution_count": null,
   "metadata": {},
   "outputs": [],
   "source": [
    "dataframe"
   ]
  },
  {
   "cell_type": "markdown",
   "metadata": {},
   "source": [
    "### changing the categorical values to numerical values using categorical.codes"
   ]
  },
  {
   "cell_type": "code",
   "execution_count": null,
   "metadata": {},
   "outputs": [],
   "source": [
    "dataframe[\"Gender\"]=pd.Categorical(dataframe[\"Gender\"]).codes\n",
    "dataframe"
   ]
  },
  {
   "cell_type": "markdown",
   "metadata": {},
   "source": [
    "## HEATMAP of correlation"
   ]
  },
  {
   "cell_type": "code",
   "execution_count": null,
   "metadata": {},
   "outputs": [],
   "source": [
    "plt.figure(figsize=(8, 8))\n",
    "sb.heatmap(dataframe.corr() >0.9,\n",
    "           annot=True,\n",
    "           cbar=True)\n",
    "plt.show()"
   ]
  },
  {
   "cell_type": "markdown",
   "metadata": {},
   "source": [
    "### As we can see \n",
    "####             1.   Height and Weight are highly correlated\n",
    "####             2.   Body_Temp and Duration are highly correlated\n",
    "### So dropping Weight and Duration wont change any prediction outcomes because Height and Body_temp will have the required information about Weight and duration because they are higly correlated\n",
    "### (Excluded because there are less no. of features.)\n",
    "### Tested including and without including and took the best out of both\n"
   ]
  },
  {
   "cell_type": "code",
   "execution_count": null,
   "metadata": {},
   "outputs": [],
   "source": [
    "# dataframe.drop(['Weight', 'Duration'], axis=1, inplace=True)\n",
    "dataframe"
   ]
  },
  {
   "cell_type": "markdown",
   "metadata": {},
   "source": [
    "## creating X and y"
   ]
  },
  {
   "cell_type": "code",
   "execution_count": null,
   "metadata": {},
   "outputs": [],
   "source": [
    "X=dataframe.drop([\"Calories\"], axis=1)\n",
    "y=dataframe[\"Calories\"]\n",
    "# X\n",
    "# y"
   ]
  },
  {
   "cell_type": "markdown",
   "metadata": {},
   "source": [
    "## train and test split 80:20"
   ]
  },
  {
   "cell_type": "code",
   "execution_count": null,
   "metadata": {},
   "outputs": [],
   "source": [
    "X_train, X_test ,y_train, y_test = train_test_split(X, y, test_size=0.2, random_state=42)   \n",
    "scaler = StandardScaler()\n",
    "X_train = scaler.fit_transform(X_train)\n",
    "X_test = scaler.transform(X_test)"
   ]
  },
  {
   "cell_type": "markdown",
   "metadata": {},
   "source": [
    "## LinearRegression"
   ]
  },
  {
   "cell_type": "code",
   "execution_count": null,
   "metadata": {},
   "outputs": [],
   "source": [
    "from sklearn.metrics import mean_squared_error\n",
    "\n",
    "model_linear=LinearRegression()\n",
    "model_linear.fit(X_train, y_train)"
   ]
  },
  {
   "cell_type": "code",
   "execution_count": null,
   "metadata": {},
   "outputs": [],
   "source": [
    "trainprediction_linear=model_linear.predict(X_train)\n",
    "print(f\"Training Error: {mean_squared_error(y_train, trainprediction_linear)}\")"
   ]
  },
  {
   "cell_type": "code",
   "execution_count": null,
   "metadata": {},
   "outputs": [],
   "source": [
    "testprediction_linear=model_linear.predict(X_test)\n",
    "print(f\"Testing Error: {mean_squared_error(y_test, testprediction_linear)}\")"
   ]
  },
  {
   "cell_type": "code",
   "execution_count": null,
   "metadata": {},
   "outputs": [],
   "source": [
    "from sklearn.metrics import *\n",
    "print(\"For Linear model:\")\n",
    "mse = mean_squared_error(y_test, testprediction_linear)\n",
    "rmse = np.sqrt(mse)\n",
    "mae = mean_absolute_error(y_test, testprediction_linear)\n",
    "r2 = r2_score(y_test, testprediction_linear)\n",
    "r2Linear=r2\n",
    "print(\"mse: \", mse)\n",
    "print(\"rmse: \",rmse)\n",
    "print(\"mae: \",mae)\n",
    "print(\"r2: \",r2)\n",
    "\n",
    "\n"
   ]
  },
  {
   "cell_type": "code",
   "execution_count": null,
   "metadata": {},
   "outputs": [],
   "source": [
    "plt.figure(figsize=(12, 12))\n",
    "plt.title(\"Predicted vs. True Output For Linear Model (96.7% accuracy)\")\n",
    "plt.scatter(testprediction_linear, y_test)\n",
    "plt.xlabel(\"y_true Values for test input\")\n",
    "plt.ylabel(\"y_predicted Values for test input\")\n",
    "plt.xlim(left=0)\n",
    "plt.ylim(bottom=0)\n",
    "plt.show()"
   ]
  },
  {
   "cell_type": "markdown",
   "metadata": {},
   "source": [
    "## Lasso Regression"
   ]
  },
  {
   "cell_type": "code",
   "execution_count": null,
   "metadata": {},
   "outputs": [],
   "source": [
    "#Lasso\n",
    "model_lasso=Lasso()\n",
    "model_lasso.fit(X_train, y_train)\n"
   ]
  },
  {
   "cell_type": "code",
   "execution_count": null,
   "metadata": {},
   "outputs": [],
   "source": [
    "trainprediction_lasso=model_lasso.predict(X_train)\n",
    "print(f\"Training Error: {mean_squared_error(y_train, trainprediction_lasso)}\")\n"
   ]
  },
  {
   "cell_type": "code",
   "execution_count": null,
   "metadata": {},
   "outputs": [],
   "source": [
    "testprediction_lasso=model_lasso.predict(X_test)\n",
    "print(f\"Testing Error: {mean_squared_error(y_test, testprediction_lasso)}\")"
   ]
  },
  {
   "cell_type": "code",
   "execution_count": null,
   "metadata": {},
   "outputs": [],
   "source": [
    "print(\"For Lasso model:\")\n",
    "mse = mean_squared_error(y_test, testprediction_lasso)\n",
    "rmse = np.sqrt(mse)\n",
    "mae = mean_absolute_error(y_test, testprediction_lasso)\n",
    "r2 = r2_score(y_test, testprediction_linear)\n",
    "r2_lasso = r2\n",
    "print(\"mse: \", mse)\n",
    "print(\"rmse: \",rmse)\n",
    "print(\"mae: \",mae)\n",
    "print(\"r2: \",r2)"
   ]
  },
  {
   "cell_type": "code",
   "execution_count": null,
   "metadata": {},
   "outputs": [],
   "source": [
    "plt.figure(figsize=(12, 12))\n",
    "plt.title(\"Predicted vs. True Output For Lasso Model (96.7 %)\")\n",
    "plt.scatter(testprediction_lasso, y_test)\n",
    "plt.xlabel(\"y_true Values for test input\")\n",
    "plt.ylabel(\"y_predicted Values for test input\")\n",
    "plt.xlim(left=0)\n",
    "plt.ylim(bottom=0)\n",
    "plt.show()"
   ]
  },
  {
   "cell_type": "markdown",
   "metadata": {},
   "source": [
    "## RIDGE"
   ]
  },
  {
   "cell_type": "code",
   "execution_count": null,
   "metadata": {},
   "outputs": [],
   "source": [
    "from sklearn.linear_model import Ridge\n",
    "ridge_model = Ridge(alpha=0.1)\n",
    "ridge_model.fit(X_train, y_train)\n"
   ]
  },
  {
   "cell_type": "code",
   "execution_count": null,
   "metadata": {},
   "outputs": [],
   "source": [
    "testprediction_ridge = ridge_model.predict(X_test)\n",
    "trainprediction_ridge = ridge_model.predict(X_train)\n",
    "mse = mean_squared_error(y_test, testprediction_ridge)\n",
    "mse1 = mean_squared_error(y_train,trainprediction_ridge)\n",
    "r2_ridge=r2_score(y_test, testprediction_ridge)\n",
    "print(f\"Mean Squared Error for train: {mse1:.4f}\")\n",
    "print(f\"Mean Squared Error for test: {mse:.4f}\")\n",
    "print(f\"Model Coefficients: {ridge_model.coef_}\")\n",
    "print(f\"Intercept: {ridge_model.intercept_}\")"
   ]
  },
  {
   "cell_type": "markdown",
   "metadata": {},
   "source": [
    "## Tuning parameter in ridge"
   ]
  },
  {
   "cell_type": "code",
   "execution_count": null,
   "metadata": {},
   "outputs": [],
   "source": [
    "rangeofpar=[0.10, 0.20, 0.30, 0.40, 0.50, 1, 1.2, 1.4, 2, 5, 11, 20, 20.5, 20.6 , 20.8, 21, 22 ,]\n",
    "bestPar=100000000000\n",
    "BestMseForTest=1000000000000\n",
    "for ele in rangeofpar:\n",
    "    model1 = Ridge(alpha=ele)\n",
    "    model1.fit(X_train, y_train)\n",
    "    y_pred = model1.predict(X_test)\n",
    "    mse=mean_absolute_error(y_test, y_pred)\n",
    "    if mse<BestMseForTest:\n",
    "        bestPar=ele\n",
    "        BestMseForTest=mse\n",
    "print(bestPar)\n"
   ]
  },
  {
   "cell_type": "markdown",
   "metadata": {},
   "source": [
    "## Training model with best parameter found"
   ]
  },
  {
   "cell_type": "code",
   "execution_count": null,
   "metadata": {},
   "outputs": [],
   "source": [
    "ridge_model = Ridge(alpha=20.8)\n",
    "ridge_model.fit(X_train, y_train)"
   ]
  },
  {
   "cell_type": "code",
   "execution_count": null,
   "metadata": {},
   "outputs": [],
   "source": [
    "y_pred = ridge_model.predict(X_test)\n",
    "y_pred1 = ridge_model.predict(X_train)"
   ]
  },
  {
   "cell_type": "code",
   "execution_count": null,
   "metadata": {},
   "outputs": [],
   "source": [
    "mse = mean_squared_error(y_test, y_pred)\n",
    "mse1 = mean_squared_error(y_train, y_pred1)\n",
    "r2_tunedRidge=r2_score(y_test, y_pred)\n",
    "print(f\"Mean Squared Error for train: {mse1:.4f}\")\n",
    "print(f\"Mean Squared Error for test: {mse:.4f}\")\n",
    "print(f\"Model Coefficients: {ridge_model.coef_}\")\n",
    "print(f\"Intercept: {ridge_model.intercept_}\")\n",
    "print(r2_score(y_test, y_pred))"
   ]
  },
  {
   "cell_type": "code",
   "execution_count": null,
   "metadata": {},
   "outputs": [],
   "source": [
    "plt.figure(figsize=(12, 12))\n",
    "plt.title(\"Predicted vs. True Output For Ridge Model with parameter 20.8 (96.7 %)\")\n",
    "plt.scatter(y_pred, y_test)\n",
    "plt.xlabel(\"y_true Values for test input\")\n",
    "plt.ylabel(\"y_predicted Values for test input\")\n",
    "plt.xlim(left=0)\n",
    "plt.ylim(bottom=0)\n",
    "plt.show()"
   ]
  },
  {
   "cell_type": "markdown",
   "metadata": {},
   "source": [
    "### RandomForestRegressor"
   ]
  },
  {
   "cell_type": "code",
   "execution_count": null,
   "metadata": {},
   "outputs": [],
   "source": [
    "from sklearn.ensemble import RandomForestRegressor\n",
    "model_regressor = RandomForestRegressor(n_estimators=100, random_state=42)\n",
    "model_regressor.fit(X_train, y_train)"
   ]
  },
  {
   "cell_type": "code",
   "execution_count": null,
   "metadata": {},
   "outputs": [],
   "source": [
    "trainprediction_random=model_regressor.predict(X_train)\n",
    "testprediction_random=model_regressor.predict(X_test)\n",
    "mse = mean_squared_error(y_test, testprediction_random)\n",
    "mse1 = mean_squared_error(y_train,trainprediction_random)\n",
    "print(f\"Mean Squared Error for train: {mse1:.4f}\")\n",
    "print(f\"Mean Squared Error for test: {mse:.4f}\")\n",
    "r2 = r2_score(y_test, testprediction_random)\n",
    "r2_rfr=r2\n",
    "print(\"r2:\", r2)"
   ]
  },
  {
   "cell_type": "markdown",
   "metadata": {},
   "source": [
    "## Using GridSearch to find best parameters for the random forest regressor \n",
    "*(We selected random forest regressor because of all the models we were testing this regressor had the most accuracy so we are trying to increase its accuracy a bit more)*"
   ]
  },
  {
   "cell_type": "code",
   "execution_count": null,
   "metadata": {},
   "outputs": [],
   "source": [
    "from sklearn.model_selection import GridSearchCV\n",
    "param_grid = {\n",
    "    'n_estimators': [50, 100, 200],\n",
    "    'max_depth': [None, 10, 20, 30],\n",
    "    'min_samples_split': [2, 5, 10],\n",
    "    'min_samples_leaf': [1, 2, 4]\n",
    "}\n",
    "\n",
    "rf = RandomForestRegressor()\n",
    "grid_search = GridSearchCV(estimator=rf, param_grid=param_grid, cv=5, scoring='neg_mean_squared_error', n_jobs=-1)\n",
    "grid_search.fit(X_train, y_train)\n",
    "print(\"Best Parameters:\", grid_search.best_params_)\n",
    "print(\"Best Score:\", -grid_search.best_score_) "
   ]
  },
  {
   "cell_type": "code",
   "execution_count": null,
   "metadata": {},
   "outputs": [],
   "source": [
    "from sklearn.ensemble import RandomForestRegressor\n",
    "model_regressor = RandomForestRegressor(n_estimators=200, random_state=42, max_depth=20, min_samples_leaf=1, min_samples_split=2)\n",
    "model_regressor.fit(X_train, y_train)"
   ]
  },
  {
   "cell_type": "code",
   "execution_count": null,
   "metadata": {},
   "outputs": [],
   "source": [
    "trainprediction_random=model_regressor.predict(X_train)\n",
    "testprediction_random=model_regressor.predict(X_test)"
   ]
  },
  {
   "cell_type": "code",
   "execution_count": null,
   "metadata": {},
   "outputs": [],
   "source": [
    "mse = mean_squared_error(y_test, testprediction_random)\n",
    "mse1 = mean_squared_error(y_train,trainprediction_random)\n",
    "r2_gs=r2_score(y_test, testprediction_random)\n",
    "print(f\"Mean Squared Error for train: {mse1:.4f}\")\n",
    "print(f\"Mean Squared Error for test: {mse:.4f}\")\n",
    "print(r2_score(y_test, testprediction_random))\n",
    "# the accuracy through r2score is 99.827% here which is ok here given the mean squared error is 1.1295 for a very large train test set, i.e., 15k"
   ]
  },
  {
   "cell_type": "code",
   "execution_count": null,
   "metadata": {},
   "outputs": [],
   "source": [
    "plt.figure(figsize=(12, 12))\n",
    "plt.title(\"Predicted vs. True Output For RandomForestRegression (99.82 %)\")\n",
    "plt.scatter(testprediction_random, y_test)\n",
    "plt.xlabel(\"y_true Values for test input\")\n",
    "plt.ylabel(\"y_predicted Values for test input\")\n",
    "plt.xlim(left=0)\n",
    "plt.ylim(bottom=0)\n",
    "plt.show()"
   ]
  },
  {
   "cell_type": "markdown",
   "metadata": {},
   "source": [
    "## RandomForestRegressor with 5-fold Evaluation"
   ]
  },
  {
   "cell_type": "code",
   "execution_count": null,
   "metadata": {},
   "outputs": [],
   "source": [
    "from sklearn.ensemble import RandomForestRegressor\n",
    "from sklearn.model_selection import cross_val_score\n",
    "\n",
    "model = RandomForestRegressor(n_estimators=100, random_state=42)\n",
    "scores = cross_val_score(model, X, y, cv=5, scoring='neg_mean_squared_error')\n",
    "model_regressor.fit(X_train, y_train)\n",
    "trainprediction_random=model_regressor.predict(X_train)\n",
    "testprediction_random=model_regressor.predict(X_test)\n",
    "mse = mean_squared_error(y_test, testprediction_random)\n",
    "mse1 = mean_squared_error(y_train,trainprediction_random)\n",
    "r2_5f=r2_score(y_test, testprediction_random)\n",
    "print(f\"Mean Squared Error for train: {mse1:.4f}\")\n",
    "print(f\"Mean Squared Error for test: {mse:.4f}\")\n",
    "print(r2_score(y_test, testprediction_random))"
   ]
  },
  {
   "cell_type": "markdown",
   "metadata": {},
   "source": [
    "### taking same model and running multiple times (10) and averaging the output (Will reduce variance)"
   ]
  },
  {
   "cell_type": "code",
   "execution_count": null,
   "metadata": {},
   "outputs": [],
   "source": [
    "aggr=y_test-y_test\n",
    "for i in range(1, 11):\n",
    "    model_regressor = RandomForestRegressor(n_estimators=200, random_state=42, max_depth=20, min_samples_leaf=1, min_samples_split=2)\n",
    "    model_regressor.fit(X_train, y_train)\n",
    "    testprediction_random=model_regressor.predict(X_test)\n",
    "    aggr+=testprediction_random\n",
    "aggr/=10\n",
    "r2_mul=r2_score(y_test, aggr)\n",
    "mse = mean_squared_error(y_test, aggr)\n",
    "print(f\"Mean Squared Error for test: {mse:.4f}\")\n",
    "print(r2_score(y_test, aggr))\n",
    "plt.figure(figsize=(12, 12))\n",
    "plt.title(\"Predicted vs. True Output For RandomForestRegression (multiple times)\")\n",
    "plt.scatter(aggr, y_test)\n",
    "plt.xlabel(\"y_true Values for test input\")\n",
    "plt.ylabel(\"y_predicted Values for test input\")\n",
    "plt.xlim(left=0)\n",
    "plt.ylim(bottom=0)\n",
    "plt.show()\n",
    "    \n",
    "# aggr.shape"
   ]
  },
  {
   "cell_type": "markdown",
   "metadata": {},
   "source": [
    "### Ensemble Learning using multiple RandomForestRegression models (3 models)"
   ]
  },
  {
   "cell_type": "code",
   "execution_count": null,
   "metadata": {},
   "outputs": [],
   "source": [
    "model1=RandomForestRegressor(n_estimators=250, random_state=42, max_depth=20, min_samples_leaf=1, min_samples_split=2)\n",
    "model2=RandomForestRegressor(n_estimators=250, random_state=42, max_depth=20, min_samples_leaf=1, min_samples_split=2)\n",
    "model3=RandomForestRegressor(n_estimators=250, random_state=42, max_depth=20, min_samples_leaf=1, min_samples_split=2)\n",
    "model1.fit(X_train, y_train)\n",
    "model2.fit(X_train, y_train)\n",
    "model3.fit(X_train, y_train)\n"
   ]
  },
  {
   "cell_type": "code",
   "execution_count": null,
   "metadata": {},
   "outputs": [],
   "source": [
    "testprediction1=model1.predict(X_test)\n",
    "testprediction2=model2.predict(X_test)\n",
    "testprediction3=model3.predict(X_test)\n",
    "trainprediction1=model1.predict(X_train)\n",
    "trainprediction2=model2.predict(X_train)\n",
    "trainprediction3=model3.predict(X_train)\n",
    "\n",
    "testpredictionAggr=(testprediction1+testprediction2+testprediction3)/3\n",
    "trainpredictionAggr=(trainprediction1+trainprediction2+trainprediction3)/3\n",
    "\n",
    "r2_El=r2_score(y_test, testpredictionAggr)\n",
    "mse = mean_squared_error(y_test, testpredictionAggr)\n",
    "print(f\"Mean Squared Error for test: {mse:.4f}\")\n",
    "print(r2_score(y_test, testpredictionAggr))\n",
    "plt.figure(figsize=(17, 17))\n",
    "plt.title(\"Predicted vs. True Output For RandomForestRegression (multiple times)\")\n",
    "plt.scatter(testpredictionAggr, y_test)\n",
    "plt.xlabel(\"y_true Values for test input\")\n",
    "plt.ylabel(\"y_predicted Values for test input\")\n",
    "plt.xlim(left=0)\n",
    "plt.ylim(bottom=0)\n",
    "plt.show()\n",
    "\n"
   ]
  },
  {
   "cell_type": "markdown",
   "metadata": {},
   "source": [
    "## R2 Score comparision "
   ]
  },
  {
   "cell_type": "code",
   "execution_count": null,
   "metadata": {},
   "outputs": [],
   "source": [
    "r2arr=[r2Linear,r2_lasso,r2_ridge,r2_rfr,r2_gs,r2_mul,r2_5f,r2_El]\n",
    "# r2arr\n",
    "lis=[\"Linear\",\"Lasso\",\"Ridge\",\"RandomForestRegression\",\"BestparameterRFR\",\"SameModelMultiple\",\"5-Fold\",\"Ensemble\"]\n",
    "for i in range(len(r2arr)):\n",
    "    print(f\"{lis[i]}: {r2arr[i]}\")"
   ]
  }
 ],
 "metadata": {
  "kernelspec": {
   "display_name": "Python 3",
   "language": "python",
   "name": "python3"
  },
  "language_info": {
   "codemirror_mode": {
    "name": "ipython",
    "version": 3
   },
   "file_extension": ".py",
   "mimetype": "text/x-python",
   "name": "python",
   "nbconvert_exporter": "python",
   "pygments_lexer": "ipython3",
   "version": "3.12.6"
  }
 },
 "nbformat": 4,
 "nbformat_minor": 2
}
